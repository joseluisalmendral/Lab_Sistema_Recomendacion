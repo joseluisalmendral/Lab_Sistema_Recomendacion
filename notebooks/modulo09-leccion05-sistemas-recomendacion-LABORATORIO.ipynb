{
 "cells": [
  {
   "cell_type": "markdown",
   "metadata": {},
   "source": [
    "\n",
    "<div style=\"text-align: center;\">\n",
    "  <img src=\"https://github.com/Hack-io-Data/Imagenes/blob/main/01-LogosHackio/logo_naranja@4x.png?raw=true\" alt=\"esquema\" />\n",
    "</div>\n",
    "\n",
    "\n",
    "# Laboratorio de Sistemas de Recomendación\n",
    "\n",
    "## Objetivos del Laboratorio\n",
    "\n",
    "1.\tImplementar y comparar diferentes tipos de sistemas de recomendación utilizando datos reales.\n",
    "\n",
    "2.\tExplorar el impacto de las características de los datos en la calidad de las recomendaciones.\n",
    "\n",
    "3.\tDesarrollar habilidades en preprocesamiento, modelado y evaluación de sistemas de recomendación.\n",
    "\n",
    "\n",
    "## Los problemas\n",
    "\n",
    "A lo largo de este laboratorio deberás enfrentarte a distintos casos prácticos:\n",
    "\n",
    "- **Caso 1: Sistema de Recomendación Basado en Contenido**\n",
    "\n",
    "\tDebes construir un sistema que recomiende videojuegos similares basándose en su descripción y géneros. Para eso deberás:\n",
    "\n",
    "\t- Preprocesar las descripciones de los juegos (texto) utilizando técnicas de NLP aprendidas durante la clase.\n",
    "\n",
    "\t- Extraer y limpiar las etiquetas de género para su uso en el sistema de recomendación.\n",
    "\n",
    "\t- Implementar una métrica de similitud (como el coseno) para recomendar juegos similares.\n",
    "\n",
    "\t- Evaluar las recomendaciones generadas para un conjunto de juegos específicos.\n",
    "\n",
    "- **Caso 2: Sistema de Recomendación Basado en Popularidad**\n",
    "\n",
    "\tDebes un sistema que recomiende los juegos más populares según su calificación general y número de reseñas. Para eso deberás:\n",
    "\t\n",
    "\t- Limpiar y convertir las columnas relacionadas con las calificaciones y las reseñas en datos numéricos.\n",
    "\t\n",
    "\t- Identificar los juegos más populares utilizando métricas como la mediana de calificaciones ponderadas.\n",
    "\t\n",
    "\t- Crear una tabla de recomendaciones generales para diferentes géneros.\n",
    "\n",
    "## Los Datos\n",
    "\n",
    "\n",
    "- **1. games_description.csv**: Este archivo contiene información detallada sobre videojuegos disponibles en una tienda. Las columnas que tenemos son: \n",
    "\n",
    "\n",
    "\t- **`name`**: Nombre del videojuego.\n",
    "\n",
    "\t- **`short_description`**: Breve descripción del videojuego.\n",
    "\n",
    "\t- **`long_description`**: Descripción completa y detallada del videojuego.\n",
    "\n",
    "\t- **`genres`**: Lista de géneros asociados al videojuego (por ejemplo, Acción, RPG).\n",
    "\n",
    "\t- **`minimum_system_requirement`**: Requisitos mínimos para ejecutar el videojuego.\n",
    "\n",
    "\t- **`recommend_system_requirement`**: Requisitos recomendados para ejecutar el videojuego.\n",
    "\n",
    "\t- **`release_date`**: Fecha de lanzamiento del videojuego.\n",
    "\n",
    "\t- **`developer`**: Nombre del desarrollador del videojuego.\n",
    "\n",
    "\t- **`publisher`**: Nombre del publicador del videojuego.\n",
    "\n",
    "\t- **`overall_player_rating`**: Calificación general de los jugadores (categórica).\n",
    "\n",
    "\t- **`number_of_reviews_from_purchased_people`**: Número de reseñas realizadas por personas que compraron el juego.\n",
    "\n",
    "\t- **`number_of_english_reviews`**: Número de reseñas en inglés.\n",
    "\n",
    "\t- **`link`**: Enlace al videojuego en la tienda.\n",
    "\n",
    "\n",
    "- **2. games_ranking.csv**: Este archivo contiene información sobre el ranking de videojuegos basados en diferentes métricas. Las columnsa que tenemos son:\n",
    "\n",
    "\n",
    "\t- **`game_name`**: Nombre del videojuego.\n",
    "\n",
    "\t- **`genre`**: Género principal del videojuego.\n",
    "\n",
    "\t- **`rank_type`**: Tipo de ranking (por ejemplo, ventas, popularidad).\n",
    "\n",
    "\t- **`rank`**: Posición del videojuego en el ranking correspondiente.\n",
    "\n",
    "----\n",
    "\n",
    "- Los datos del archivo `games_description.csv` pueden utilizarse para construir sistemas de recomendación basados en contenido.\n",
    "- Los datos del archivo `games_ranking.csv` son ideales para implementar sistemas basados en popularidad.\n"
   ]
  },
  {
   "cell_type": "markdown",
   "metadata": {},
   "source": []
  },
  {
   "cell_type": "markdown",
   "metadata": {
    "vscode": {
     "languageId": "plaintext"
    }
   },
   "source": [
    "---\n",
    "---\n",
    "## Importamos Librerías, Configuraciones y Datos"
   ]
  },
  {
   "cell_type": "code",
   "execution_count": 1,
   "metadata": {},
   "outputs": [],
   "source": [
    "%load_ext autoreload\n",
    "%autoreload 2\n",
    "\n",
    "from config import *"
   ]
  },
  {
   "cell_type": "markdown",
   "metadata": {},
   "source": [
    "---\n",
    "---\n",
    "## Construcción Modelo Recomendación basado en Descripción y Géneros"
   ]
  },
  {
   "cell_type": "code",
   "execution_count": 2,
   "metadata": {},
   "outputs": [
    {
     "data": {
      "text/html": [
       "<div>\n",
       "<style scoped>\n",
       "    .dataframe tbody tr th:only-of-type {\n",
       "        vertical-align: middle;\n",
       "    }\n",
       "\n",
       "    .dataframe tbody tr th {\n",
       "        vertical-align: top;\n",
       "    }\n",
       "\n",
       "    .dataframe thead th {\n",
       "        text-align: right;\n",
       "    }\n",
       "</style>\n",
       "<table border=\"1\" class=\"dataframe\">\n",
       "  <thead>\n",
       "    <tr style=\"text-align: right;\">\n",
       "      <th></th>\n",
       "      <th>name</th>\n",
       "      <th>short_description</th>\n",
       "      <th>long_description</th>\n",
       "      <th>genres</th>\n",
       "      <th>minimum_system_requirement</th>\n",
       "      <th>recommend_system_requirement</th>\n",
       "      <th>release_date</th>\n",
       "      <th>developer</th>\n",
       "      <th>publisher</th>\n",
       "      <th>overall_player_rating</th>\n",
       "      <th>number_of_reviews_from_purchased_people</th>\n",
       "      <th>number_of_english_reviews</th>\n",
       "      <th>link</th>\n",
       "    </tr>\n",
       "  </thead>\n",
       "  <tbody>\n",
       "    <tr>\n",
       "      <th>143</th>\n",
       "      <td>theHunter: Call of the Wild™</td>\n",
       "      <td>Discover an atmospheric hunting game like no o...</td>\n",
       "      <td>About This Game\\n\\t\\t\\t\\t\\t\\t\\tDiscover an atm...</td>\n",
       "      <td>['Hunting', 'Open World', 'Multiplayer', 'Natu...</td>\n",
       "      <td>['Requires a 64-bit processor and operating sy...</td>\n",
       "      <td>['Requires a 64-bit processor and operating sy...</td>\n",
       "      <td>16 Feb, 2017</td>\n",
       "      <td>['Expansive Worlds']</td>\n",
       "      <td>['Expansive Worlds']</td>\n",
       "      <td>Very Positive</td>\n",
       "      <td>(136,012)</td>\n",
       "      <td>59,053</td>\n",
       "      <td>https://store.steampowered.com/app/518790/theH...</td>\n",
       "    </tr>\n",
       "    <tr>\n",
       "      <th>87</th>\n",
       "      <td>Lost Judgment</td>\n",
       "      <td>When a police officer discloses the murder of ...</td>\n",
       "      <td>About This Game\\n\\t\\t\\t\\t\\t\\t\\tWhen a convicte...</td>\n",
       "      <td>['Action', 'Adventure', \"Beat 'em up\", 'Action...</td>\n",
       "      <td>['Requires a 64-bit processor and operating sy...</td>\n",
       "      <td>['Requires a 64-bit processor and operating sy...</td>\n",
       "      <td>14 Sep, 2022</td>\n",
       "      <td>['Ryu Ga Gotoku Studio']</td>\n",
       "      <td>['SEGA']</td>\n",
       "      <td>Very Positive</td>\n",
       "      <td>(4,682)</td>\n",
       "      <td>2,960</td>\n",
       "      <td>https://store.steampowered.com/app/2058190/Los...</td>\n",
       "    </tr>\n",
       "  </tbody>\n",
       "</table>\n",
       "</div>"
      ],
      "text/plain": [
       "                             name  \\\n",
       "143  theHunter: Call of the Wild™   \n",
       "87                  Lost Judgment   \n",
       "\n",
       "                                     short_description  \\\n",
       "143  Discover an atmospheric hunting game like no o...   \n",
       "87   When a police officer discloses the murder of ...   \n",
       "\n",
       "                                      long_description  \\\n",
       "143  About This Game\\n\\t\\t\\t\\t\\t\\t\\tDiscover an atm...   \n",
       "87   About This Game\\n\\t\\t\\t\\t\\t\\t\\tWhen a convicte...   \n",
       "\n",
       "                                                genres  \\\n",
       "143  ['Hunting', 'Open World', 'Multiplayer', 'Natu...   \n",
       "87   ['Action', 'Adventure', \"Beat 'em up\", 'Action...   \n",
       "\n",
       "                            minimum_system_requirement  \\\n",
       "143  ['Requires a 64-bit processor and operating sy...   \n",
       "87   ['Requires a 64-bit processor and operating sy...   \n",
       "\n",
       "                          recommend_system_requirement  release_date  \\\n",
       "143  ['Requires a 64-bit processor and operating sy...  16 Feb, 2017   \n",
       "87   ['Requires a 64-bit processor and operating sy...  14 Sep, 2022   \n",
       "\n",
       "                    developer             publisher overall_player_rating  \\\n",
       "143      ['Expansive Worlds']  ['Expansive Worlds']         Very Positive   \n",
       "87   ['Ryu Ga Gotoku Studio']              ['SEGA']         Very Positive   \n",
       "\n",
       "    number_of_reviews_from_purchased_people number_of_english_reviews  \\\n",
       "143                               (136,012)                    59,053   \n",
       "87                                  (4,682)                     2,960   \n",
       "\n",
       "                                                  link  \n",
       "143  https://store.steampowered.com/app/518790/theH...  \n",
       "87   https://store.steampowered.com/app/2058190/Los...  "
      ]
     },
     "execution_count": 2,
     "metadata": {},
     "output_type": "execute_result"
    }
   ],
   "source": [
    "df = pd.read_csv(f\"{DATOS_RUTA_BASE}/games_description.csv\").reset_index(drop=True)\n",
    "df.sample(2)"
   ]
  },
  {
   "cell_type": "markdown",
   "metadata": {},
   "source": [
    "## Seleccionamos solo las variables que nos interesan"
   ]
  },
  {
   "cell_type": "code",
   "execution_count": 3,
   "metadata": {},
   "outputs": [
    {
     "data": {
      "text/html": [
       "<div>\n",
       "<style scoped>\n",
       "    .dataframe tbody tr th:only-of-type {\n",
       "        vertical-align: middle;\n",
       "    }\n",
       "\n",
       "    .dataframe tbody tr th {\n",
       "        vertical-align: top;\n",
       "    }\n",
       "\n",
       "    .dataframe thead th {\n",
       "        text-align: right;\n",
       "    }\n",
       "</style>\n",
       "<table border=\"1\" class=\"dataframe\">\n",
       "  <thead>\n",
       "    <tr style=\"text-align: right;\">\n",
       "      <th></th>\n",
       "      <th>name</th>\n",
       "      <th>short_description</th>\n",
       "      <th>long_description</th>\n",
       "      <th>genres</th>\n",
       "    </tr>\n",
       "  </thead>\n",
       "  <tbody>\n",
       "    <tr>\n",
       "      <th>21</th>\n",
       "      <td>Street Fighter™ 6</td>\n",
       "      <td>Here comes Capcom’s newest challenger! Street ...</td>\n",
       "      <td>About This Game\\n\\t\\t\\t\\t\\t\\t\\tHere comes Capc...</td>\n",
       "      <td>['2D Fighter', 'Fighting', 'Character Customiz...</td>\n",
       "    </tr>\n",
       "    <tr>\n",
       "      <th>171</th>\n",
       "      <td>Sid Meier’s Civilization® VI</td>\n",
       "      <td>Civilization VI is the newest installment in t...</td>\n",
       "      <td>About This Game\\nCivilization VI offers new wa...</td>\n",
       "      <td>['Strategy', 'Turn-Based Strategy', 'Multiplay...</td>\n",
       "    </tr>\n",
       "    <tr>\n",
       "      <th>217</th>\n",
       "      <td>Stacklands</td>\n",
       "      <td>Stacklands is a village builder where you stac...</td>\n",
       "      <td>About This Game\\nStacklands is a village build...</td>\n",
       "      <td>['Card Game', 'Management', 'Survival', 'Card ...</td>\n",
       "    </tr>\n",
       "  </tbody>\n",
       "</table>\n",
       "</div>"
      ],
      "text/plain": [
       "                             name  \\\n",
       "21              Street Fighter™ 6   \n",
       "171  Sid Meier’s Civilization® VI   \n",
       "217                    Stacklands   \n",
       "\n",
       "                                     short_description  \\\n",
       "21   Here comes Capcom’s newest challenger! Street ...   \n",
       "171  Civilization VI is the newest installment in t...   \n",
       "217  Stacklands is a village builder where you stac...   \n",
       "\n",
       "                                      long_description  \\\n",
       "21   About This Game\\n\\t\\t\\t\\t\\t\\t\\tHere comes Capc...   \n",
       "171  About This Game\\nCivilization VI offers new wa...   \n",
       "217  About This Game\\nStacklands is a village build...   \n",
       "\n",
       "                                                genres  \n",
       "21   ['2D Fighter', 'Fighting', 'Character Customiz...  \n",
       "171  ['Strategy', 'Turn-Based Strategy', 'Multiplay...  \n",
       "217  ['Card Game', 'Management', 'Survival', 'Card ...  "
      ]
     },
     "execution_count": 3,
     "metadata": {},
     "output_type": "execute_result"
    }
   ],
   "source": [
    "df_games = df[['name', 'short_description', 'long_description', 'genres']]\n",
    "df_games.sample(3)"
   ]
  },
  {
   "cell_type": "markdown",
   "metadata": {},
   "source": [
    "## Vemos si tenemos nulos o duplicados"
   ]
  },
  {
   "cell_type": "code",
   "execution_count": 4,
   "metadata": {},
   "outputs": [
    {
     "data": {
      "text/plain": [
       "name                0.00\n",
       "short_description   4.48\n",
       "long_description    0.00\n",
       "genres              0.00\n",
       "dtype: float64"
      ]
     },
     "execution_count": 4,
     "metadata": {},
     "output_type": "execute_result"
    }
   ],
   "source": [
    "# porcentaje nulos\n",
    "(df_games.isna().sum() / df_games.shape[0]) * 100"
   ]
  },
  {
   "cell_type": "code",
   "execution_count": 5,
   "metadata": {},
   "outputs": [],
   "source": [
    "df_games['short_description'].fillna(' ', inplace=True)"
   ]
  },
  {
   "cell_type": "code",
   "execution_count": 6,
   "metadata": {},
   "outputs": [
    {
     "data": {
      "text/plain": [
       "0"
      ]
     },
     "execution_count": 6,
     "metadata": {},
     "output_type": "execute_result"
    }
   ],
   "source": [
    "df_games.duplicated().sum()"
   ]
  },
  {
   "cell_type": "markdown",
   "metadata": {},
   "source": [
    "## Limpiamos el contenido"
   ]
  },
  {
   "cell_type": "code",
   "execution_count": 7,
   "metadata": {},
   "outputs": [
    {
     "data": {
      "text/html": [
       "<div>\n",
       "<style scoped>\n",
       "    .dataframe tbody tr th:only-of-type {\n",
       "        vertical-align: middle;\n",
       "    }\n",
       "\n",
       "    .dataframe tbody tr th {\n",
       "        vertical-align: top;\n",
       "    }\n",
       "\n",
       "    .dataframe thead th {\n",
       "        text-align: right;\n",
       "    }\n",
       "</style>\n",
       "<table border=\"1\" class=\"dataframe\">\n",
       "  <thead>\n",
       "    <tr style=\"text-align: right;\">\n",
       "      <th></th>\n",
       "      <th>name</th>\n",
       "      <th>short_description</th>\n",
       "      <th>long_description</th>\n",
       "      <th>genres</th>\n",
       "    </tr>\n",
       "  </thead>\n",
       "  <tbody>\n",
       "    <tr>\n",
       "      <th>54</th>\n",
       "      <td>Dying Light</td>\n",
       "      <td>First-person action survival game set in a pos...</td>\n",
       "      <td>About This Game\\nFrom the creators of hit titl...</td>\n",
       "      <td>['Zombies', 'Survival Horror', 'Horror', 'Onli...</td>\n",
       "    </tr>\n",
       "    <tr>\n",
       "      <th>269</th>\n",
       "      <td>MXGP 2021 - The Official Motocross Videogame</td>\n",
       "      <td>All the power of Motocross in your hands: the ...</td>\n",
       "      <td>About This Game\\n\\t\\t\\t\\t\\t\\t\\tAll the power o...</td>\n",
       "      <td>['Racing', 'Simulation', 'Sports', 'Bikes', 'M...</td>\n",
       "    </tr>\n",
       "    <tr>\n",
       "      <th>164</th>\n",
       "      <td>People Playground</td>\n",
       "      <td>Shoot, stab, burn, poison, tear, vaporise, or ...</td>\n",
       "      <td>About This Game\\n\\t\\t\\t\\t\\t\\t\\tShoot, stab, bu...</td>\n",
       "      <td>['Sandbox', 'Gore', 'Physics', 'Blood', 'Modda...</td>\n",
       "    </tr>\n",
       "  </tbody>\n",
       "</table>\n",
       "</div>"
      ],
      "text/plain": [
       "                                             name  \\\n",
       "54                                    Dying Light   \n",
       "269  MXGP 2021 - The Official Motocross Videogame   \n",
       "164                             People Playground   \n",
       "\n",
       "                                     short_description  \\\n",
       "54   First-person action survival game set in a pos...   \n",
       "269  All the power of Motocross in your hands: the ...   \n",
       "164  Shoot, stab, burn, poison, tear, vaporise, or ...   \n",
       "\n",
       "                                      long_description  \\\n",
       "54   About This Game\\nFrom the creators of hit titl...   \n",
       "269  About This Game\\n\\t\\t\\t\\t\\t\\t\\tAll the power o...   \n",
       "164  About This Game\\n\\t\\t\\t\\t\\t\\t\\tShoot, stab, bu...   \n",
       "\n",
       "                                                genres  \n",
       "54   ['Zombies', 'Survival Horror', 'Horror', 'Onli...  \n",
       "269  ['Racing', 'Simulation', 'Sports', 'Bikes', 'M...  \n",
       "164  ['Sandbox', 'Gore', 'Physics', 'Blood', 'Modda...  "
      ]
     },
     "execution_count": 7,
     "metadata": {},
     "output_type": "execute_result"
    }
   ],
   "source": [
    "df_games.sample(3)"
   ]
  },
  {
   "cell_type": "markdown",
   "metadata": {},
   "source": [
    "#### eliminamos los \\n y los \\t de 'long_description'"
   ]
  },
  {
   "cell_type": "code",
   "execution_count": 8,
   "metadata": {},
   "outputs": [],
   "source": [
    "df_games['long_description'] = df_games['long_description'].map(lambda x: x.replace('\\n',' ').replace('\\t',''))"
   ]
  },
  {
   "cell_type": "code",
   "execution_count": 9,
   "metadata": {},
   "outputs": [
    {
     "data": {
      "text/html": [
       "<div>\n",
       "<style scoped>\n",
       "    .dataframe tbody tr th:only-of-type {\n",
       "        vertical-align: middle;\n",
       "    }\n",
       "\n",
       "    .dataframe tbody tr th {\n",
       "        vertical-align: top;\n",
       "    }\n",
       "\n",
       "    .dataframe thead th {\n",
       "        text-align: right;\n",
       "    }\n",
       "</style>\n",
       "<table border=\"1\" class=\"dataframe\">\n",
       "  <thead>\n",
       "    <tr style=\"text-align: right;\">\n",
       "      <th></th>\n",
       "      <th>name</th>\n",
       "      <th>short_description</th>\n",
       "      <th>long_description</th>\n",
       "      <th>genres</th>\n",
       "    </tr>\n",
       "  </thead>\n",
       "  <tbody>\n",
       "    <tr>\n",
       "      <th>56</th>\n",
       "      <td>Unturned</td>\n",
       "      <td>You're a survivor in the zombie infested ruins...</td>\n",
       "      <td>About This Game STAY UNTURNEDYou're one of the...</td>\n",
       "      <td>['Free to Play', 'Survival', 'Zombies', 'Multi...</td>\n",
       "    </tr>\n",
       "    <tr>\n",
       "      <th>232</th>\n",
       "      <td>EA SPORTS™ WRC</td>\n",
       "      <td>Build the car of your dreams in our biggest ra...</td>\n",
       "      <td>About This Game Build the car of your dreams i...</td>\n",
       "      <td>['Racing', 'Simulation', 'Automobile Sim', 'Sp...</td>\n",
       "    </tr>\n",
       "    <tr>\n",
       "      <th>123</th>\n",
       "      <td>Yakuza 0</td>\n",
       "      <td>SEGA’s legendary Japanese series finally comes...</td>\n",
       "      <td>About This Game The glitz, glamour, and unbrid...</td>\n",
       "      <td>['Story Rich', 'Action', \"Beat 'em up\", 'Great...</td>\n",
       "    </tr>\n",
       "  </tbody>\n",
       "</table>\n",
       "</div>"
      ],
      "text/plain": [
       "               name                                  short_description  \\\n",
       "56         Unturned  You're a survivor in the zombie infested ruins...   \n",
       "232  EA SPORTS™ WRC  Build the car of your dreams in our biggest ra...   \n",
       "123        Yakuza 0  SEGA’s legendary Japanese series finally comes...   \n",
       "\n",
       "                                      long_description  \\\n",
       "56   About This Game STAY UNTURNEDYou're one of the...   \n",
       "232  About This Game Build the car of your dreams i...   \n",
       "123  About This Game The glitz, glamour, and unbrid...   \n",
       "\n",
       "                                                genres  \n",
       "56   ['Free to Play', 'Survival', 'Zombies', 'Multi...  \n",
       "232  ['Racing', 'Simulation', 'Automobile Sim', 'Sp...  \n",
       "123  ['Story Rich', 'Action', \"Beat 'em up\", 'Great...  "
      ]
     },
     "execution_count": 9,
     "metadata": {},
     "output_type": "execute_result"
    }
   ],
   "source": [
    "df_games.sample(3)"
   ]
  },
  {
   "cell_type": "markdown",
   "metadata": {},
   "source": [
    "#### limpiamos genres"
   ]
  },
  {
   "cell_type": "code",
   "execution_count": 10,
   "metadata": {},
   "outputs": [],
   "source": [
    "df_games['genres'] = df_games['genres'].map(lambda x: x.lstrip(\"['\").replace(\"', '\", ' ').rstrip(\"']\"))"
   ]
  },
  {
   "cell_type": "code",
   "execution_count": 11,
   "metadata": {},
   "outputs": [
    {
     "data": {
      "text/html": [
       "<div>\n",
       "<style scoped>\n",
       "    .dataframe tbody tr th:only-of-type {\n",
       "        vertical-align: middle;\n",
       "    }\n",
       "\n",
       "    .dataframe tbody tr th {\n",
       "        vertical-align: top;\n",
       "    }\n",
       "\n",
       "    .dataframe thead th {\n",
       "        text-align: right;\n",
       "    }\n",
       "</style>\n",
       "<table border=\"1\" class=\"dataframe\">\n",
       "  <thead>\n",
       "    <tr style=\"text-align: right;\">\n",
       "      <th></th>\n",
       "      <th>name</th>\n",
       "      <th>short_description</th>\n",
       "      <th>long_description</th>\n",
       "      <th>genres</th>\n",
       "    </tr>\n",
       "  </thead>\n",
       "  <tbody>\n",
       "    <tr>\n",
       "      <th>261</th>\n",
       "      <td>Motordoom</td>\n",
       "      <td>Motördoom is a freestyle-sports roguelite hord...</td>\n",
       "      <td>About This Game Motördoom is a freestyle-sport...</td>\n",
       "      <td>Skateboarding BMX Roguelite Arcade Action Rogu...</td>\n",
       "    </tr>\n",
       "    <tr>\n",
       "      <th>256</th>\n",
       "      <td>Slime Volley</td>\n",
       "      <td>🏐 Step into the bouncy and exciting arcade gam...</td>\n",
       "      <td>About This Game Get Ready for Bouncy Arcade Fu...</td>\n",
       "      <td>Volleyball 2D Tennis Sports Arcade PvP Basketb...</td>\n",
       "    </tr>\n",
       "    <tr>\n",
       "      <th>149</th>\n",
       "      <td>Dyson Sphere Program</td>\n",
       "      <td>Build the most efficient intergalactic factory...</td>\n",
       "      <td>About This Game Dyson Sphere Program is a sci-...</td>\n",
       "      <td>Space Automation Base Building Building Open W...</td>\n",
       "    </tr>\n",
       "  </tbody>\n",
       "</table>\n",
       "</div>"
      ],
      "text/plain": [
       "                     name                                  short_description  \\\n",
       "261             Motordoom  Motördoom is a freestyle-sports roguelite hord...   \n",
       "256          Slime Volley  🏐 Step into the bouncy and exciting arcade gam...   \n",
       "149  Dyson Sphere Program  Build the most efficient intergalactic factory...   \n",
       "\n",
       "                                      long_description  \\\n",
       "261  About This Game Motördoom is a freestyle-sport...   \n",
       "256  About This Game Get Ready for Bouncy Arcade Fu...   \n",
       "149  About This Game Dyson Sphere Program is a sci-...   \n",
       "\n",
       "                                                genres  \n",
       "261  Skateboarding BMX Roguelite Arcade Action Rogu...  \n",
       "256  Volleyball 2D Tennis Sports Arcade PvP Basketb...  \n",
       "149  Space Automation Base Building Building Open W...  "
      ]
     },
     "execution_count": 11,
     "metadata": {},
     "output_type": "execute_result"
    }
   ],
   "source": [
    "df_games.sample(3)"
   ]
  },
  {
   "cell_type": "markdown",
   "metadata": {},
   "source": [
    "#### Unimos las descripciones y los generos"
   ]
  },
  {
   "cell_type": "code",
   "execution_count": 12,
   "metadata": {},
   "outputs": [],
   "source": [
    "df_games['content'] = df_games['short_description'] + \" \" + df_games['long_description'] + \" \" + df_games['genres']\n",
    "df_games.drop(columns=['short_description', 'long_description', 'genres'], inplace = True)"
   ]
  },
  {
   "cell_type": "code",
   "execution_count": 13,
   "metadata": {},
   "outputs": [
    {
     "data": {
      "text/html": [
       "<div>\n",
       "<style scoped>\n",
       "    .dataframe tbody tr th:only-of-type {\n",
       "        vertical-align: middle;\n",
       "    }\n",
       "\n",
       "    .dataframe tbody tr th {\n",
       "        vertical-align: top;\n",
       "    }\n",
       "\n",
       "    .dataframe thead th {\n",
       "        text-align: right;\n",
       "    }\n",
       "</style>\n",
       "<table border=\"1\" class=\"dataframe\">\n",
       "  <thead>\n",
       "    <tr style=\"text-align: right;\">\n",
       "      <th></th>\n",
       "      <th>name</th>\n",
       "      <th>content</th>\n",
       "    </tr>\n",
       "  </thead>\n",
       "  <tbody>\n",
       "    <tr>\n",
       "      <th>125</th>\n",
       "      <td>Mount &amp; Blade II: Bannerlord</td>\n",
       "      <td>A strategy/action RPG. Create a character, eng...</td>\n",
       "    </tr>\n",
       "    <tr>\n",
       "      <th>69</th>\n",
       "      <td>Persona 3 Reload</td>\n",
       "      <td>Dive into the Dark Hour and awaken the depths ...</td>\n",
       "    </tr>\n",
       "    <tr>\n",
       "      <th>37</th>\n",
       "      <td>FINAL FANTASY XIV Online</td>\n",
       "      <td>Join over 30 million adventurers worldwide and...</td>\n",
       "    </tr>\n",
       "  </tbody>\n",
       "</table>\n",
       "</div>"
      ],
      "text/plain": [
       "                             name  \\\n",
       "125  Mount & Blade II: Bannerlord   \n",
       "69               Persona 3 Reload   \n",
       "37       FINAL FANTASY XIV Online   \n",
       "\n",
       "                                               content  \n",
       "125  A strategy/action RPG. Create a character, eng...  \n",
       "69   Dive into the Dark Hour and awaken the depths ...  \n",
       "37   Join over 30 million adventurers worldwide and...  "
      ]
     },
     "execution_count": 13,
     "metadata": {},
     "output_type": "execute_result"
    }
   ],
   "source": [
    "df_games.sample(3)"
   ]
  },
  {
   "cell_type": "markdown",
   "metadata": {},
   "source": [
    "#### Vectorizamos el contenido"
   ]
  },
  {
   "cell_type": "code",
   "execution_count": 14,
   "metadata": {},
   "outputs": [
    {
     "data": {
      "text/plain": [
       "array([[0, 0, 0, ..., 0, 0, 0],\n",
       "       [0, 0, 0, ..., 0, 0, 0],\n",
       "       [0, 0, 0, ..., 0, 0, 0],\n",
       "       ...,\n",
       "       [0, 0, 0, ..., 0, 0, 8],\n",
       "       [0, 0, 0, ..., 0, 0, 0],\n",
       "       [0, 0, 0, ..., 0, 0, 0]], dtype=int64)"
      ]
     },
     "execution_count": 14,
     "metadata": {},
     "output_type": "execute_result"
    }
   ],
   "source": [
    "vectorizer = CountVectorizer(max_features=1500, stop_words='english')\n",
    "\n",
    "X = vectorizer.fit_transform(df_games['content']).toarray()\n",
    "\n",
    "similarity = cosine_similarity(X)\n",
    "X[:20]"
   ]
  },
  {
   "cell_type": "markdown",
   "metadata": {},
   "source": [
    "#### definimos juego que le gusat al usuario"
   ]
  },
  {
   "cell_type": "code",
   "execution_count": 15,
   "metadata": {},
   "outputs": [
    {
     "data": {
      "text/plain": [
       "20"
      ]
     },
     "execution_count": 15,
     "metadata": {},
     "output_type": "execute_result"
    }
   ],
   "source": [
    "game_liked_user = 'Call of Duty®'\n",
    "\n",
    "movie_index = sup_reco.get_index_from_register(dataframe=df_games, column='name', name=game_liked_user)\n",
    "\n",
    "movie_index"
   ]
  },
  {
   "cell_type": "markdown",
   "metadata": {},
   "source": [
    "#### sacamos películas similares"
   ]
  },
  {
   "cell_type": "code",
   "execution_count": 16,
   "metadata": {},
   "outputs": [
    {
     "data": {
      "text/plain": [
       "[(0, 0.07601843138275106), (1, 0.0755520666784773), (2, 0.10931020776502581)]"
      ]
     },
     "execution_count": 16,
     "metadata": {},
     "output_type": "execute_result"
    }
   ],
   "source": [
    "similar_games = list(enumerate(similarity[movie_index]))\n",
    "similar_games[:3]"
   ]
  },
  {
   "cell_type": "code",
   "execution_count": 17,
   "metadata": {},
   "outputs": [
    {
     "data": {
      "text/plain": [
       "[(28, 0.7045099992579257), (23, 0.5853112219368807), (17, 0.5599315183416234)]"
      ]
     },
     "execution_count": 17,
     "metadata": {},
     "output_type": "execute_result"
    }
   ],
   "source": [
    "ordered_similar_games = sorted(similar_games,key=lambda x:x[1],reverse=True)[1:21] # [1:21] si lo cambiamos a [0:21] la tenemos a ella misma \n",
    "ordered_similar_games[:3]"
   ]
  },
  {
   "cell_type": "code",
   "execution_count": 18,
   "metadata": {},
   "outputs": [
    {
     "data": {
      "image/png": "[encoded data removed]",
      "text/plain": [
       "<Figure size 1000x600 with 1 Axes>"
      ]
     },
     "metadata": {},
     "output_type": "display_data"
    }
   ],
   "source": [
    "# y ahora buscamos el título\n",
    "top_similar_games = {}\n",
    "for i in ordered_similar_games:\n",
    "    top_similar_games[sup_reco.get_name_from_index(df_games, 'name', i[0])] = i[1]\n",
    "\n",
    "# visualizamos los resultados\n",
    "plt.figure(figsize=(10, 6))\n",
    "sns.set_style(\"whitegrid\")\n",
    "\n",
    "# Crear gráfico de barras\n",
    "sns.barplot(\n",
    "    x=list(top_similar_games.values()), \n",
    "    y=list(top_similar_games.keys()), \n",
    "    palette=\"mako\"\n",
    ")\n",
    "\n",
    "# Añadir etiquetas y título\n",
    "plt.title(f\"Top Juegos Similares a {game_liked_user} Basado en Contenido\", fontsize=16, pad=20)\n",
    "plt.xlabel(\"Similitud\", fontsize=12)\n",
    "plt.ylabel(\"Películas\", fontsize=12)\n",
    "\n",
    "# Añadir valores al final de cada barra\n",
    "for i, value in enumerate(top_similar_games.values()):\n",
    "    plt.text(value + 0.02, i, f\"{value:.2f}\", va='center', fontsize=10)\n",
    "\n",
    "plt.tight_layout()\n"
   ]
  },
  {
   "cell_type": "markdown",
   "metadata": {},
   "source": [
    "---\n",
    "---\n",
    "## Caso 2: Sistema de recomendación Basado en Popularidad\n",
    "- Limpiar y convertir las columnas relacionadas con las calificaciones y las reseñas en datos numéricos.\n",
    "\t\n",
    "- Identificar los juegos más populares utilizando métricas como la mediana de calificaciones ponderadas.\n",
    "\n",
    "- Crear una tabla de recomendaciones generales para diferentes géneros."
   ]
  },
  {
   "cell_type": "code",
   "execution_count": 19,
   "metadata": {},
   "outputs": [
    {
     "data": {
      "text/html": [
       "<div>\n",
       "<style scoped>\n",
       "    .dataframe tbody tr th:only-of-type {\n",
       "        vertical-align: middle;\n",
       "    }\n",
       "\n",
       "    .dataframe tbody tr th {\n",
       "        vertical-align: top;\n",
       "    }\n",
       "\n",
       "    .dataframe thead th {\n",
       "        text-align: right;\n",
       "    }\n",
       "</style>\n",
       "<table border=\"1\" class=\"dataframe\">\n",
       "  <thead>\n",
       "    <tr style=\"text-align: right;\">\n",
       "      <th></th>\n",
       "      <th>game_name</th>\n",
       "      <th>genre</th>\n",
       "      <th>rank_type</th>\n",
       "      <th>rank</th>\n",
       "    </tr>\n",
       "  </thead>\n",
       "  <tbody>\n",
       "    <tr>\n",
       "      <th>635</th>\n",
       "      <td>Descenders</td>\n",
       "      <td>Sports &amp; Racing</td>\n",
       "      <td>Review</td>\n",
       "      <td>4</td>\n",
       "    </tr>\n",
       "    <tr>\n",
       "      <th>356</th>\n",
       "      <td>War Thunder</td>\n",
       "      <td>Simulation</td>\n",
       "      <td>Revenue</td>\n",
       "      <td>5</td>\n",
       "    </tr>\n",
       "    <tr>\n",
       "      <th>422</th>\n",
       "      <td>Stellaris</td>\n",
       "      <td>Simulation</td>\n",
       "      <td>Review</td>\n",
       "      <td>31</td>\n",
       "    </tr>\n",
       "  </tbody>\n",
       "</table>\n",
       "</div>"
      ],
      "text/plain": [
       "       game_name            genre rank_type  rank\n",
       "635   Descenders  Sports & Racing    Review     4\n",
       "356  War Thunder       Simulation   Revenue     5\n",
       "422    Stellaris       Simulation    Review    31"
      ]
     },
     "execution_count": 19,
     "metadata": {},
     "output_type": "execute_result"
    }
   ],
   "source": [
    "df_caso2 = pd.read_csv(f\"{DATOS_RUTA_BASE}/games_ranking.csv\")\n",
    "df_caso2.sample(3)"
   ]
  },
  {
   "cell_type": "code",
   "execution_count": 20,
   "metadata": {},
   "outputs": [
    {
     "data": {
      "text/plain": [
       "array(['Sales', 'Revenue', 'Review'], dtype=object)"
      ]
     },
     "execution_count": 20,
     "metadata": {},
     "output_type": "execute_result"
    }
   ],
   "source": [
    "df_caso2['rank_type'].unique()"
   ]
  },
  {
   "cell_type": "code",
   "execution_count": 21,
   "metadata": {},
   "outputs": [
    {
     "data": {
      "text/plain": [
       "array(['Review'], dtype=object)"
      ]
     },
     "execution_count": 21,
     "metadata": {},
     "output_type": "execute_result"
    }
   ],
   "source": [
    "df_rank = df_caso2[df_caso2['rank_type'] == 'Review']\n",
    "df_rank['rank_type'].unique()"
   ]
  },
  {
   "cell_type": "code",
   "execution_count": 22,
   "metadata": {},
   "outputs": [],
   "source": [
    "df_rank.drop(columns=['rank_type'], inplace=True)"
   ]
  },
  {
   "cell_type": "code",
   "execution_count": 23,
   "metadata": {},
   "outputs": [],
   "source": [
    "generos = df_rank['genre'].unique()"
   ]
  },
  {
   "cell_type": "code",
   "execution_count": 24,
   "metadata": {},
   "outputs": [
    {
     "name": "stdout",
     "output_type": "stream",
     "text": [
      "Variable 'df_action' creada\n",
      "Variable 'df_adventure' creada\n",
      "Variable 'df_role_playing' creada\n",
      "Variable 'df_simulation' creada\n",
      "Variable 'df_strategy' creada\n",
      "Variable 'df_sports__racing' creada\n"
     ]
    }
   ],
   "source": [
    "for genero in generos:\n",
    "    nombre_variable = f\"df_{genero.lower().replace('-','_').replace('&','').replace(' ','_')}\"\n",
    "    globals()[nombre_variable] = df_rank[df_rank['genre'] == genero]\n",
    "    print(f\"Variable '{nombre_variable}' creada\")\n"
   ]
  },
  {
   "cell_type": "code",
   "execution_count": 25,
   "metadata": {},
   "outputs": [],
   "source": [
    "lista_dfs = [df_action, df_adventure, df_role_playing, df_simulation, df_strategy, df_sports__racing]"
   ]
  },
  {
   "cell_type": "markdown",
   "metadata": {},
   "source": [
    "#### vemos que ya los tenemos agrupados"
   ]
  },
  {
   "cell_type": "code",
   "execution_count": 26,
   "metadata": {},
   "outputs": [
    {
     "data": {
      "text/html": [
       "<div>\n",
       "<style scoped>\n",
       "    .dataframe tbody tr th:only-of-type {\n",
       "        vertical-align: middle;\n",
       "    }\n",
       "\n",
       "    .dataframe tbody tr th {\n",
       "        vertical-align: top;\n",
       "    }\n",
       "\n",
       "    .dataframe thead th {\n",
       "        text-align: right;\n",
       "    }\n",
       "</style>\n",
       "<table border=\"1\" class=\"dataframe\">\n",
       "  <thead>\n",
       "    <tr style=\"text-align: right;\">\n",
       "      <th></th>\n",
       "      <th>game_name</th>\n",
       "      <th>genre</th>\n",
       "      <th>rank</th>\n",
       "    </tr>\n",
       "  </thead>\n",
       "  <tbody>\n",
       "    <tr>\n",
       "      <th>196</th>\n",
       "      <td>Terraria</td>\n",
       "      <td>Adventure</td>\n",
       "      <td>1</td>\n",
       "    </tr>\n",
       "    <tr>\n",
       "      <th>197</th>\n",
       "      <td>Grand Theft Auto V</td>\n",
       "      <td>Adventure</td>\n",
       "      <td>2</td>\n",
       "    </tr>\n",
       "    <tr>\n",
       "      <th>198</th>\n",
       "      <td>The Witcher 3: Wild Hunt</td>\n",
       "      <td>Adventure</td>\n",
       "      <td>3</td>\n",
       "    </tr>\n",
       "    <tr>\n",
       "      <th>199</th>\n",
       "      <td>Baldur's Gate 3</td>\n",
       "      <td>Adventure</td>\n",
       "      <td>4</td>\n",
       "    </tr>\n",
       "    <tr>\n",
       "      <th>200</th>\n",
       "      <td>Black Myth: Wukong</td>\n",
       "      <td>Adventure</td>\n",
       "      <td>5</td>\n",
       "    </tr>\n",
       "    <tr>\n",
       "      <th>201</th>\n",
       "      <td>Rust</td>\n",
       "      <td>Adventure</td>\n",
       "      <td>6</td>\n",
       "    </tr>\n",
       "    <tr>\n",
       "      <th>202</th>\n",
       "      <td>The Forest</td>\n",
       "      <td>Adventure</td>\n",
       "      <td>7</td>\n",
       "    </tr>\n",
       "    <tr>\n",
       "      <th>203</th>\n",
       "      <td>Red Dead Redemption 2</td>\n",
       "      <td>Adventure</td>\n",
       "      <td>8</td>\n",
       "    </tr>\n",
       "    <tr>\n",
       "      <th>204</th>\n",
       "      <td>Lethal Company</td>\n",
       "      <td>Adventure</td>\n",
       "      <td>9</td>\n",
       "    </tr>\n",
       "    <tr>\n",
       "      <th>205</th>\n",
       "      <td>Hollow Knight</td>\n",
       "      <td>Adventure</td>\n",
       "      <td>10</td>\n",
       "    </tr>\n",
       "    <tr>\n",
       "      <th>206</th>\n",
       "      <td>Unturned</td>\n",
       "      <td>Adventure</td>\n",
       "      <td>11</td>\n",
       "    </tr>\n",
       "    <tr>\n",
       "      <th>207</th>\n",
       "      <td>Subnautica</td>\n",
       "      <td>Adventure</td>\n",
       "      <td>12</td>\n",
       "    </tr>\n",
       "  </tbody>\n",
       "</table>\n",
       "</div>"
      ],
      "text/plain": [
       "                    game_name      genre  rank\n",
       "196                  Terraria  Adventure     1\n",
       "197        Grand Theft Auto V  Adventure     2\n",
       "198  The Witcher 3: Wild Hunt  Adventure     3\n",
       "199           Baldur's Gate 3  Adventure     4\n",
       "200        Black Myth: Wukong  Adventure     5\n",
       "201                      Rust  Adventure     6\n",
       "202                The Forest  Adventure     7\n",
       "203     Red Dead Redemption 2  Adventure     8\n",
       "204            Lethal Company  Adventure     9\n",
       "205             Hollow Knight  Adventure    10\n",
       "206                  Unturned  Adventure    11\n",
       "207                Subnautica  Adventure    12"
      ]
     },
     "execution_count": 26,
     "metadata": {},
     "output_type": "execute_result"
    }
   ],
   "source": [
    "df_adventure"
   ]
  },
  {
   "cell_type": "code",
   "execution_count": 35,
   "metadata": {},
   "outputs": [
    {
     "data": {
      "text/html": [
       "<h2>Top mejores juegos de <b>Action</b></h2>"
      ],
      "text/plain": [
       "<IPython.core.display.HTML object>"
      ]
     },
     "metadata": {},
     "output_type": "display_data"
    },
    {
     "data": {
      "text/html": [
       "<div>\n",
       "<style scoped>\n",
       "    .dataframe tbody tr th:only-of-type {\n",
       "        vertical-align: middle;\n",
       "    }\n",
       "\n",
       "    .dataframe tbody tr th {\n",
       "        vertical-align: top;\n",
       "    }\n",
       "\n",
       "    .dataframe thead th {\n",
       "        text-align: right;\n",
       "    }\n",
       "</style>\n",
       "<table border=\"1\" class=\"dataframe\">\n",
       "  <thead>\n",
       "    <tr style=\"text-align: right;\">\n",
       "      <th></th>\n",
       "      <th>game_name</th>\n",
       "      <th>rank</th>\n",
       "    </tr>\n",
       "  </thead>\n",
       "  <tbody>\n",
       "    <tr>\n",
       "      <th>76</th>\n",
       "      <td>Counter-Strike 2</td>\n",
       "      <td>1</td>\n",
       "    </tr>\n",
       "    <tr>\n",
       "      <th>77</th>\n",
       "      <td>Grand Theft Auto V</td>\n",
       "      <td>2</td>\n",
       "    </tr>\n",
       "    <tr>\n",
       "      <th>78</th>\n",
       "      <td>Dota 2</td>\n",
       "      <td>3</td>\n",
       "    </tr>\n",
       "    <tr>\n",
       "      <th>79</th>\n",
       "      <td>Terraria</td>\n",
       "      <td>4</td>\n",
       "    </tr>\n",
       "    <tr>\n",
       "      <th>80</th>\n",
       "      <td>Black Myth: Wukong</td>\n",
       "      <td>5</td>\n",
       "    </tr>\n",
       "    <tr>\n",
       "      <th>81</th>\n",
       "      <td>Wallpaper Engine</td>\n",
       "      <td>6</td>\n",
       "    </tr>\n",
       "    <tr>\n",
       "      <th>82</th>\n",
       "      <td>Tom Clancy's Rainbow Six® Siege</td>\n",
       "      <td>7</td>\n",
       "    </tr>\n",
       "    <tr>\n",
       "      <th>83</th>\n",
       "      <td>Left 4 Dead 2</td>\n",
       "      <td>8</td>\n",
       "    </tr>\n",
       "    <tr>\n",
       "      <th>84</th>\n",
       "      <td>The Witcher 3: Wild Hunt</td>\n",
       "      <td>9</td>\n",
       "    </tr>\n",
       "    <tr>\n",
       "      <th>85</th>\n",
       "      <td>Team Fortress 2</td>\n",
       "      <td>10</td>\n",
       "    </tr>\n",
       "  </tbody>\n",
       "</table>\n",
       "</div>"
      ],
      "text/plain": [
       "                          game_name  rank\n",
       "76                 Counter-Strike 2     1\n",
       "77               Grand Theft Auto V     2\n",
       "78                           Dota 2     3\n",
       "79                         Terraria     4\n",
       "80               Black Myth: Wukong     5\n",
       "81                 Wallpaper Engine     6\n",
       "82  Tom Clancy's Rainbow Six® Siege     7\n",
       "83                    Left 4 Dead 2     8\n",
       "84         The Witcher 3: Wild Hunt     9\n",
       "85                  Team Fortress 2    10"
      ]
     },
     "metadata": {},
     "output_type": "display_data"
    },
    {
     "data": {
      "text/html": [
       "<hr><hr>"
      ],
      "text/plain": [
       "<IPython.core.display.HTML object>"
      ]
     },
     "metadata": {},
     "output_type": "display_data"
    },
    {
     "data": {
      "text/html": [
       "<h2>Top mejores juegos de <b>Adventure</b></h2>"
      ],
      "text/plain": [
       "<IPython.core.display.HTML object>"
      ]
     },
     "metadata": {},
     "output_type": "display_data"
    },
    {
     "data": {
      "text/html": [
       "<div>\n",
       "<style scoped>\n",
       "    .dataframe tbody tr th:only-of-type {\n",
       "        vertical-align: middle;\n",
       "    }\n",
       "\n",
       "    .dataframe tbody tr th {\n",
       "        vertical-align: top;\n",
       "    }\n",
       "\n",
       "    .dataframe thead th {\n",
       "        text-align: right;\n",
       "    }\n",
       "</style>\n",
       "<table border=\"1\" class=\"dataframe\">\n",
       "  <thead>\n",
       "    <tr style=\"text-align: right;\">\n",
       "      <th></th>\n",
       "      <th>game_name</th>\n",
       "      <th>rank</th>\n",
       "    </tr>\n",
       "  </thead>\n",
       "  <tbody>\n",
       "    <tr>\n",
       "      <th>196</th>\n",
       "      <td>Terraria</td>\n",
       "      <td>1</td>\n",
       "    </tr>\n",
       "    <tr>\n",
       "      <th>197</th>\n",
       "      <td>Grand Theft Auto V</td>\n",
       "      <td>2</td>\n",
       "    </tr>\n",
       "    <tr>\n",
       "      <th>198</th>\n",
       "      <td>The Witcher 3: Wild Hunt</td>\n",
       "      <td>3</td>\n",
       "    </tr>\n",
       "    <tr>\n",
       "      <th>199</th>\n",
       "      <td>Baldur's Gate 3</td>\n",
       "      <td>4</td>\n",
       "    </tr>\n",
       "    <tr>\n",
       "      <th>200</th>\n",
       "      <td>Black Myth: Wukong</td>\n",
       "      <td>5</td>\n",
       "    </tr>\n",
       "    <tr>\n",
       "      <th>201</th>\n",
       "      <td>Rust</td>\n",
       "      <td>6</td>\n",
       "    </tr>\n",
       "    <tr>\n",
       "      <th>202</th>\n",
       "      <td>The Forest</td>\n",
       "      <td>7</td>\n",
       "    </tr>\n",
       "    <tr>\n",
       "      <th>203</th>\n",
       "      <td>Red Dead Redemption 2</td>\n",
       "      <td>8</td>\n",
       "    </tr>\n",
       "    <tr>\n",
       "      <th>204</th>\n",
       "      <td>Lethal Company</td>\n",
       "      <td>9</td>\n",
       "    </tr>\n",
       "    <tr>\n",
       "      <th>205</th>\n",
       "      <td>Hollow Knight</td>\n",
       "      <td>10</td>\n",
       "    </tr>\n",
       "  </tbody>\n",
       "</table>\n",
       "</div>"
      ],
      "text/plain": [
       "                    game_name  rank\n",
       "196                  Terraria     1\n",
       "197        Grand Theft Auto V     2\n",
       "198  The Witcher 3: Wild Hunt     3\n",
       "199           Baldur's Gate 3     4\n",
       "200        Black Myth: Wukong     5\n",
       "201                      Rust     6\n",
       "202                The Forest     7\n",
       "203     Red Dead Redemption 2     8\n",
       "204            Lethal Company     9\n",
       "205             Hollow Knight    10"
      ]
     },
     "metadata": {},
     "output_type": "display_data"
    },
    {
     "data": {
      "text/html": [
       "<hr><hr>"
      ],
      "text/plain": [
       "<IPython.core.display.HTML object>"
      ]
     },
     "metadata": {},
     "output_type": "display_data"
    },
    {
     "data": {
      "text/html": [
       "<h2>Top mejores juegos de <b>Role-Playing</b></h2>"
      ],
      "text/plain": [
       "<IPython.core.display.HTML object>"
      ]
     },
     "metadata": {},
     "output_type": "display_data"
    },
    {
     "data": {
      "text/html": [
       "<div>\n",
       "<style scoped>\n",
       "    .dataframe tbody tr th:only-of-type {\n",
       "        vertical-align: middle;\n",
       "    }\n",
       "\n",
       "    .dataframe tbody tr th {\n",
       "        vertical-align: top;\n",
       "    }\n",
       "\n",
       "    .dataframe thead th {\n",
       "        text-align: right;\n",
       "    }\n",
       "</style>\n",
       "<table border=\"1\" class=\"dataframe\">\n",
       "  <thead>\n",
       "    <tr style=\"text-align: right;\">\n",
       "      <th></th>\n",
       "      <th>game_name</th>\n",
       "      <th>rank</th>\n",
       "    </tr>\n",
       "  </thead>\n",
       "  <tbody>\n",
       "    <tr>\n",
       "      <th>272</th>\n",
       "      <td>Dota 2</td>\n",
       "      <td>1</td>\n",
       "    </tr>\n",
       "    <tr>\n",
       "      <th>273</th>\n",
       "      <td>The Witcher 3: Wild Hunt</td>\n",
       "      <td>2</td>\n",
       "    </tr>\n",
       "    <tr>\n",
       "      <th>274</th>\n",
       "      <td>Black Myth: Wukong</td>\n",
       "      <td>3</td>\n",
       "    </tr>\n",
       "    <tr>\n",
       "      <th>275</th>\n",
       "      <td>Baldur's Gate 3</td>\n",
       "      <td>4</td>\n",
       "    </tr>\n",
       "    <tr>\n",
       "      <th>276</th>\n",
       "      <td>Stardew Valley</td>\n",
       "      <td>5</td>\n",
       "    </tr>\n",
       "    <tr>\n",
       "      <th>277</th>\n",
       "      <td>ELDEN RING</td>\n",
       "      <td>6</td>\n",
       "    </tr>\n",
       "    <tr>\n",
       "      <th>278</th>\n",
       "      <td>Divinity: Original Sin 2 - Definitive Edition</td>\n",
       "      <td>7</td>\n",
       "    </tr>\n",
       "    <tr>\n",
       "      <th>279</th>\n",
       "      <td>Warframe</td>\n",
       "      <td>8</td>\n",
       "    </tr>\n",
       "    <tr>\n",
       "      <th>280</th>\n",
       "      <td>Cyberpunk 2077</td>\n",
       "      <td>9</td>\n",
       "    </tr>\n",
       "    <tr>\n",
       "      <th>281</th>\n",
       "      <td>Destiny 2</td>\n",
       "      <td>10</td>\n",
       "    </tr>\n",
       "  </tbody>\n",
       "</table>\n",
       "</div>"
      ],
      "text/plain": [
       "                                         game_name  rank\n",
       "272                                         Dota 2     1\n",
       "273                       The Witcher 3: Wild Hunt     2\n",
       "274                             Black Myth: Wukong     3\n",
       "275                                Baldur's Gate 3     4\n",
       "276                                 Stardew Valley     5\n",
       "277                                     ELDEN RING     6\n",
       "278  Divinity: Original Sin 2 - Definitive Edition     7\n",
       "279                                       Warframe     8\n",
       "280                                 Cyberpunk 2077     9\n",
       "281                                      Destiny 2    10"
      ]
     },
     "metadata": {},
     "output_type": "display_data"
    },
    {
     "data": {
      "text/html": [
       "<hr><hr>"
      ],
      "text/plain": [
       "<IPython.core.display.HTML object>"
      ]
     },
     "metadata": {},
     "output_type": "display_data"
    },
    {
     "data": {
      "text/html": [
       "<h2>Top mejores juegos de <b>Simulation</b></h2>"
      ],
      "text/plain": [
       "<IPython.core.display.HTML object>"
      ]
     },
     "metadata": {},
     "output_type": "display_data"
    },
    {
     "data": {
      "text/html": [
       "<div>\n",
       "<style scoped>\n",
       "    .dataframe tbody tr th:only-of-type {\n",
       "        vertical-align: middle;\n",
       "    }\n",
       "\n",
       "    .dataframe tbody tr th {\n",
       "        vertical-align: top;\n",
       "    }\n",
       "\n",
       "    .dataframe thead th {\n",
       "        text-align: right;\n",
       "    }\n",
       "</style>\n",
       "<table border=\"1\" class=\"dataframe\">\n",
       "  <thead>\n",
       "    <tr style=\"text-align: right;\">\n",
       "      <th></th>\n",
       "      <th>game_name</th>\n",
       "      <th>rank</th>\n",
       "    </tr>\n",
       "  </thead>\n",
       "  <tbody>\n",
       "    <tr>\n",
       "      <th>392</th>\n",
       "      <td>Garry's Mod</td>\n",
       "      <td>1</td>\n",
       "    </tr>\n",
       "    <tr>\n",
       "      <th>393</th>\n",
       "      <td>Stardew Valley</td>\n",
       "      <td>2</td>\n",
       "    </tr>\n",
       "    <tr>\n",
       "      <th>394</th>\n",
       "      <td>Euro Truck Simulator 2</td>\n",
       "      <td>3</td>\n",
       "    </tr>\n",
       "    <tr>\n",
       "      <th>395</th>\n",
       "      <td>The Forest</td>\n",
       "      <td>4</td>\n",
       "    </tr>\n",
       "    <tr>\n",
       "      <th>396</th>\n",
       "      <td>BeamNG.drive</td>\n",
       "      <td>5</td>\n",
       "    </tr>\n",
       "    <tr>\n",
       "      <th>397</th>\n",
       "      <td>People Playground</td>\n",
       "      <td>6</td>\n",
       "    </tr>\n",
       "    <tr>\n",
       "      <th>398</th>\n",
       "      <td>RimWorld</td>\n",
       "      <td>7</td>\n",
       "    </tr>\n",
       "    <tr>\n",
       "      <th>399</th>\n",
       "      <td>Cities: Skylines</td>\n",
       "      <td>8</td>\n",
       "    </tr>\n",
       "    <tr>\n",
       "      <th>400</th>\n",
       "      <td>American Truck Simulator</td>\n",
       "      <td>9</td>\n",
       "    </tr>\n",
       "    <tr>\n",
       "      <th>401</th>\n",
       "      <td>Totally Accurate Battle Simulator</td>\n",
       "      <td>10</td>\n",
       "    </tr>\n",
       "  </tbody>\n",
       "</table>\n",
       "</div>"
      ],
      "text/plain": [
       "                             game_name  rank\n",
       "392                        Garry's Mod     1\n",
       "393                     Stardew Valley     2\n",
       "394             Euro Truck Simulator 2     3\n",
       "395                         The Forest     4\n",
       "396                       BeamNG.drive     5\n",
       "397                  People Playground     6\n",
       "398                           RimWorld     7\n",
       "399                   Cities: Skylines     8\n",
       "400           American Truck Simulator     9\n",
       "401  Totally Accurate Battle Simulator    10"
      ]
     },
     "metadata": {},
     "output_type": "display_data"
    },
    {
     "data": {
      "text/html": [
       "<hr><hr>"
      ],
      "text/plain": [
       "<IPython.core.display.HTML object>"
      ]
     },
     "metadata": {},
     "output_type": "display_data"
    },
    {
     "data": {
      "text/html": [
       "<h2>Top mejores juegos de <b>Strategy</b></h2>"
      ],
      "text/plain": [
       "<IPython.core.display.HTML object>"
      ]
     },
     "metadata": {},
     "output_type": "display_data"
    },
    {
     "data": {
      "text/html": [
       "<div>\n",
       "<style scoped>\n",
       "    .dataframe tbody tr th:only-of-type {\n",
       "        vertical-align: middle;\n",
       "    }\n",
       "\n",
       "    .dataframe tbody tr th {\n",
       "        vertical-align: top;\n",
       "    }\n",
       "\n",
       "    .dataframe thead th {\n",
       "        text-align: right;\n",
       "    }\n",
       "</style>\n",
       "<table border=\"1\" class=\"dataframe\">\n",
       "  <thead>\n",
       "    <tr style=\"text-align: right;\">\n",
       "      <th></th>\n",
       "      <th>game_name</th>\n",
       "      <th>rank</th>\n",
       "    </tr>\n",
       "  </thead>\n",
       "  <tbody>\n",
       "    <tr>\n",
       "      <th>512</th>\n",
       "      <td>Dota 2</td>\n",
       "      <td>1</td>\n",
       "    </tr>\n",
       "    <tr>\n",
       "      <th>513</th>\n",
       "      <td>Sid Meier’s Civilization® VI</td>\n",
       "      <td>2</td>\n",
       "    </tr>\n",
       "    <tr>\n",
       "      <th>514</th>\n",
       "      <td>Sid Meier's Civilization® V</td>\n",
       "      <td>3</td>\n",
       "    </tr>\n",
       "    <tr>\n",
       "      <th>515</th>\n",
       "      <td>Bloons TD 6</td>\n",
       "      <td>4</td>\n",
       "    </tr>\n",
       "    <tr>\n",
       "      <th>516</th>\n",
       "      <td>Hearts of Iron IV</td>\n",
       "      <td>5</td>\n",
       "    </tr>\n",
       "    <tr>\n",
       "      <th>517</th>\n",
       "      <td>Divinity: Original Sin 2 - Definitive Edition</td>\n",
       "      <td>6</td>\n",
       "    </tr>\n",
       "    <tr>\n",
       "      <th>518</th>\n",
       "      <td>RimWorld</td>\n",
       "      <td>7</td>\n",
       "    </tr>\n",
       "    <tr>\n",
       "      <th>519</th>\n",
       "      <td>Total War: WARHAMMER II</td>\n",
       "      <td>8</td>\n",
       "    </tr>\n",
       "    <tr>\n",
       "      <th>520</th>\n",
       "      <td>Tabletop Simulator</td>\n",
       "      <td>9</td>\n",
       "    </tr>\n",
       "    <tr>\n",
       "      <th>521</th>\n",
       "      <td>Crusader Kings III</td>\n",
       "      <td>10</td>\n",
       "    </tr>\n",
       "  </tbody>\n",
       "</table>\n",
       "</div>"
      ],
      "text/plain": [
       "                                         game_name  rank\n",
       "512                                         Dota 2     1\n",
       "513                   Sid Meier’s Civilization® VI     2\n",
       "514                    Sid Meier's Civilization® V     3\n",
       "515                                    Bloons TD 6     4\n",
       "516                              Hearts of Iron IV     5\n",
       "517  Divinity: Original Sin 2 - Definitive Edition     6\n",
       "518                                       RimWorld     7\n",
       "519                        Total War: WARHAMMER II     8\n",
       "520                             Tabletop Simulator     9\n",
       "521                             Crusader Kings III    10"
      ]
     },
     "metadata": {},
     "output_type": "display_data"
    },
    {
     "data": {
      "text/html": [
       "<hr><hr>"
      ],
      "text/plain": [
       "<IPython.core.display.HTML object>"
      ]
     },
     "metadata": {},
     "output_type": "display_data"
    },
    {
     "data": {
      "text/html": [
       "<h2>Top mejores juegos de <b>Sports & Racing</b></h2>"
      ],
      "text/plain": [
       "<IPython.core.display.HTML object>"
      ]
     },
     "metadata": {},
     "output_type": "display_data"
    },
    {
     "data": {
      "text/html": [
       "<div>\n",
       "<style scoped>\n",
       "    .dataframe tbody tr th:only-of-type {\n",
       "        vertical-align: middle;\n",
       "    }\n",
       "\n",
       "    .dataframe tbody tr th {\n",
       "        vertical-align: top;\n",
       "    }\n",
       "\n",
       "    .dataframe thead th {\n",
       "        text-align: right;\n",
       "    }\n",
       "</style>\n",
       "<table border=\"1\" class=\"dataframe\">\n",
       "  <thead>\n",
       "    <tr style=\"text-align: right;\">\n",
       "      <th></th>\n",
       "      <th>game_name</th>\n",
       "      <th>rank</th>\n",
       "    </tr>\n",
       "  </thead>\n",
       "  <tbody>\n",
       "    <tr>\n",
       "      <th>632</th>\n",
       "      <td>All-In-One Sports VR</td>\n",
       "      <td>1</td>\n",
       "    </tr>\n",
       "    <tr>\n",
       "      <th>633</th>\n",
       "      <td>Riders Republic</td>\n",
       "      <td>2</td>\n",
       "    </tr>\n",
       "    <tr>\n",
       "      <th>634</th>\n",
       "      <td>The Ramp</td>\n",
       "      <td>3</td>\n",
       "    </tr>\n",
       "    <tr>\n",
       "      <th>635</th>\n",
       "      <td>Descenders</td>\n",
       "      <td>4</td>\n",
       "    </tr>\n",
       "    <tr>\n",
       "      <th>636</th>\n",
       "      <td>Motordoom</td>\n",
       "      <td>5</td>\n",
       "    </tr>\n",
       "    <tr>\n",
       "      <th>637</th>\n",
       "      <td>Sledders</td>\n",
       "      <td>6</td>\n",
       "    </tr>\n",
       "    <tr>\n",
       "      <th>638</th>\n",
       "      <td>Monster Energy Supercross - The Official Video...</td>\n",
       "      <td>7</td>\n",
       "    </tr>\n",
       "    <tr>\n",
       "      <th>639</th>\n",
       "      <td>Golf With Your Friends</td>\n",
       "      <td>8</td>\n",
       "    </tr>\n",
       "    <tr>\n",
       "      <th>640</th>\n",
       "      <td>Skater XL - The Ultimate Skateboarding Game</td>\n",
       "      <td>9</td>\n",
       "    </tr>\n",
       "    <tr>\n",
       "      <th>641</th>\n",
       "      <td>TrackDayR</td>\n",
       "      <td>10</td>\n",
       "    </tr>\n",
       "  </tbody>\n",
       "</table>\n",
       "</div>"
      ],
      "text/plain": [
       "                                             game_name  rank\n",
       "632                               All-In-One Sports VR     1\n",
       "633                                    Riders Republic     2\n",
       "634                                           The Ramp     3\n",
       "635                                         Descenders     4\n",
       "636                                          Motordoom     5\n",
       "637                                           Sledders     6\n",
       "638  Monster Energy Supercross - The Official Video...     7\n",
       "639                             Golf With Your Friends     8\n",
       "640        Skater XL - The Ultimate Skateboarding Game     9\n",
       "641                                          TrackDayR    10"
      ]
     },
     "metadata": {},
     "output_type": "display_data"
    },
    {
     "data": {
      "text/html": [
       "<hr><hr>"
      ],
      "text/plain": [
       "<IPython.core.display.HTML object>"
      ]
     },
     "metadata": {},
     "output_type": "display_data"
    }
   ],
   "source": [
    "for df_ in lista_dfs:\n",
    "    display(HTML(f\"<h2>Top mejores juegos de <b>{df_['genre'].unique()[0]}</b></h2>\"))\n",
    "    display(df_[['game_name','rank']][:10])\n",
    "    display(HTML(\"<hr><hr>\"))"
   ]
  }
 ],
 "metadata": {
  "kernelspec": {
   "display_name": "dev",
   "language": "python",
   "name": "python3"
  },
  "language_info": {
   "codemirror_mode": {
    "name": "ipython",
    "version": 3
   },
   "file_extension": ".py",
   "mimetype": "text/x-python",
   "name": "python",
   "nbconvert_exporter": "python",
   "pygments_lexer": "ipython3",
   "version": "3.11.8"
  }
 },
 "nbformat": 4,
 "nbformat_minor": 2
}
